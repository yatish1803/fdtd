{
 "cells": [
  {
   "cell_type": "markdown",
   "metadata": {},
   "source": [
    "# 04. Performance Profiling"
   ]
  },
  {
   "cell_type": "markdown",
   "metadata": {},
   "source": [
    "We can profile the performance with a 3D FDTD simulation:"
   ]
  },
  {
   "cell_type": "markdown",
   "metadata": {},
   "source": [
    "## Imports"
   ]
  },
  {
   "cell_type": "code",
   "execution_count": 14,
   "metadata": {},
   "outputs": [],
   "source": [
    "import matplotlib.pyplot as plt\n",
    "from line_profiler import LineProfiler\n",
    "\n",
    "import fdtd\n",
    "import fdtd.backend as bd"
   ]
  },
  {
   "cell_type": "markdown",
   "metadata": {},
   "source": [
    "## Set Backend\n",
    "\n",
    "Let's profile the impact of the backend. These are the possible backends:"
   ]
  },
  {
   "cell_type": "markdown",
   "metadata": {},
   "source": [
    "- ``numpy`` (defaults to float64 arrays)\n",
    "- ``torch`` (defaults to float64 tensors)\n",
    "- ``torch.float32``\n",
    "- ``torch.float64``\n",
    "- ``torch.cuda`` (defaults to float64 tensors)\n",
    "- ``torch.cuda.float32``\n",
    "- ``torch.cuda.float64``"
   ]
  },
  {
   "cell_type": "code",
   "execution_count": 15,
   "metadata": {},
   "outputs": [],
   "source": [
    "fdtd.set_backend(\"numpy\")"
   ]
  },
  {
   "cell_type": "markdown",
   "metadata": {},
   "source": [
    "In general, the ``numpy`` backend is preferred for standard CPU calculations\n",
    "with `\"float64\"` precision as it is slightly faster than ``torch`` backend on CPU. However, a significant performance improvement can be obtained by choosing ``torch.cuda`` on large enough grids.\n",
    "\n",
    "Note that, in FDTD, ``float64`` precision is generally preferred over ``float32`` to ensure numerical stability and prevent numerical dispersion. If this is of no concern to you, you can opt for ``float32`` precision, which especially on a GPU might yield a significant performance boost."
   ]
  },
  {
   "cell_type": "markdown",
   "metadata": {},
   "source": [
    "## Constants"
   ]
  },
  {
   "cell_type": "code",
   "execution_count": 16,
   "metadata": {},
   "outputs": [],
   "source": [
    "WAVELENGTH = 1550e-9\n",
    "SPEED_LIGHT: float = 299_792_458.0  # [m/s] speed of light"
   ]
  },
  {
   "cell_type": "markdown",
   "metadata": {},
   "source": [
    "## Setup Simulation"
   ]
  },
  {
   "cell_type": "markdown",
   "metadata": {},
   "source": [
    "create FDTD Grid"
   ]
  },
  {
   "cell_type": "code",
   "execution_count": 17,
   "metadata": {},
   "outputs": [],
   "source": [
    "N = 100\n",
    "\n",
    "grid = fdtd.Grid(\n",
    "    (N, N, N),\n",
    "    grid_spacing=0.05 * WAVELENGTH,\n",
    "    permittivity=1.0,\n",
    "    permeability=1.0,\n",
    ")"
   ]
  },
  {
   "cell_type": "markdown",
   "metadata": {},
   "source": [
    "add boundaries"
   ]
  },
  {
   "cell_type": "code",
   "execution_count": 18,
   "metadata": {},
   "outputs": [],
   "source": [
    "# x boundaries\n",
    "grid[0:10, :, :] = fdtd.PML(name=\"pml_xlow\")\n",
    "grid[-10:, :, :] = fdtd.PML(name=\"pml_xhigh\")\n",
    "\n",
    "# y boundaries\n",
    "grid[:, 0:10, :] = fdtd.PML(name=\"pml_ylow\")\n",
    "grid[:, -10:, :] = fdtd.PML(name=\"pml_yhigh\")\n",
    "\n",
    "# z boundaries\n",
    "grid[:, :, 0:10] = fdtd.PML(name=\"pml_zlow\")\n",
    "grid[:, :, -10:] = fdtd.PML(name=\"pml_zhigh\")"
   ]
  },
  {
   "cell_type": "markdown",
   "metadata": {},
   "source": [
    "add sources"
   ]
  },
  {
   "cell_type": "code",
   "execution_count": 19,
   "metadata": {},
   "outputs": [],
   "source": [
    "grid[10+N//10:10+N//10, :, :] = fdtd.PlaneSource(\n",
    "    period=WAVELENGTH / SPEED_LIGHT, name=\"source\"\n",
    ")"
   ]
  },
  {
   "cell_type": "markdown",
   "metadata": {},
   "source": [
    "add objects"
   ]
  },
  {
   "cell_type": "code",
   "execution_count": 20,
   "metadata": {},
   "outputs": [],
   "source": [
    "grid[10+N//5:4*N//5-10, 10+N//5:4*N//5-10, 10+N//5:4*N//5-10] = fdtd.Object(permittivity=2.5, name=\"center_object\")"
   ]
  },
  {
   "cell_type": "markdown",
   "metadata": {},
   "source": [
    "grid summary"
   ]
  },
  {
   "cell_type": "code",
   "execution_count": 21,
   "metadata": {},
   "outputs": [
    {
     "name": "stdout",
     "output_type": "stream",
     "text": [
      "Grid(shape=(100,100,100), grid_spacing=2.46e-08, courant_number=0.57)\n",
      "\n",
      "sources:\n",
      "    PlaneSource(period=35, amplitude=1.0, phase_shift=0.0, name='source', polarization='z')\n",
      "        @ x=[20, ... , 21], y=[0, ... , 100], z=[0, ... , 100]\n",
      "\n",
      "boundaries:\n",
      "    PML(name='pml_xlow')\n",
      "        @ x=0:10, y=:, z=:\n",
      "    PML(name='pml_xhigh')\n",
      "        @ x=-10:, y=:, z=:\n",
      "    PML(name='pml_ylow')\n",
      "        @ x=:, y=0:10, z=:\n",
      "    PML(name='pml_yhigh')\n",
      "        @ x=:, y=-10:, z=:\n",
      "    PML(name='pml_zlow')\n",
      "        @ x=:, y=:, z=0:10\n",
      "    PML(name='pml_zhigh')\n",
      "        @ x=:, y=:, z=-10:\n",
      "\n",
      "objects:\n",
      "    Object(name='center_object')\n",
      "        @ x=30:70, y=30:70, z=30:70\n",
      "\n"
     ]
    }
   ],
   "source": [
    "print(grid)"
   ]
  },
  {
   "cell_type": "markdown",
   "metadata": {},
   "source": [
    "## Setup LineProfiler"
   ]
  },
  {
   "cell_type": "markdown",
   "metadata": {},
   "source": [
    "create and enable profiler"
   ]
  },
  {
   "cell_type": "code",
   "execution_count": 10,
   "metadata": {},
   "outputs": [],
   "source": [
    "profiler = LineProfiler()\n",
    "profiler.add_function(grid.update_E)\n",
    "profiler.enable()"
   ]
  },
  {
   "cell_type": "markdown",
   "metadata": {},
   "source": [
    "## Run Simulation"
   ]
  },
  {
   "cell_type": "markdown",
   "metadata": {},
   "source": [
    "run simulation"
   ]
  },
  {
   "cell_type": "code",
   "execution_count": 11,
   "metadata": {},
   "outputs": [
    {
     "name": "stderr",
     "output_type": "stream",
     "text": [
      "100%|██████████████████████████████████████████████████████████████████████████████████████| 50/50 [00:10<00:00,  4.74it/s]\n"
     ]
    }
   ],
   "source": [
    "grid.run(50, progress_bar=True)"
   ]
  },
  {
   "cell_type": "markdown",
   "metadata": {},
   "source": [
    "## Profiler Results"
   ]
  },
  {
   "cell_type": "markdown",
   "metadata": {},
   "source": [
    "print profiler summary"
   ]
  },
  {
   "cell_type": "code",
   "execution_count": 12,
   "metadata": {},
   "outputs": [
    {
     "name": "stdout",
     "output_type": "stream",
     "text": [
      "Timer unit: 1e-07 s\n",
      "\n",
      "Total time: 5.30356 s\n",
      "File: C:\\Users\\49157\\anaconda3\\envs\\FDTD\\lib\\site-packages\\fdtd\\grid.py\n",
      "Function: update_E at line 275\n",
      "\n",
      "Line #      Hits         Time  Per Hit   % Time  Line Contents\n",
      "==============================================================\n",
      "   275                                               def update_E(self):\n",
      "   276                                                   \"\"\"update the electric field by using the curl of the magnetic field\"\"\"\n",
      "   277                                           \n",
      "   278                                                   # update boundaries: step 1\n",
      "   279       300       4473.0     14.9      0.0          for boundary in self.boundaries:\n",
      "   280       300   16106946.0  53689.8     30.4              boundary.update_phi_E()\n",
      "   281                                           \n",
      "   282        50   19913864.0 398277.3     37.5          curl = curl_H(self.H)\n",
      "   283        50    8978805.0 179576.1     16.9          self.E += self.courant_number * self.inverse_permittivity * curl\n",
      "   284                                           \n",
      "   285                                                   # update objects\n",
      "   286        50       2076.0     41.5      0.0          for obj in self.objects:\n",
      "   287        50     826622.0  16532.4      1.6              obj.update_E(curl)\n",
      "   288                                           \n",
      "   289                                                   # update boundaries: step 2\n",
      "   290       300       3858.0     12.9      0.0          for boundary in self.boundaries:\n",
      "   291       300    7175657.0  23918.9     13.5              boundary.update_E()\n",
      "   292                                           \n",
      "   293                                                   # add sources to grid:\n",
      "   294        50       1434.0     28.7      0.0          for src in self.sources:\n",
      "   295        50      21365.0    427.3      0.0              src.update_E()\n",
      "   296                                           \n",
      "   297                                                   # detect electric field\n",
      "   298        50        468.0      9.4      0.0          for det in self.detectors:\n",
      "   299                                                       det.detect_E()\n",
      "\n"
     ]
    }
   ],
   "source": [
    "profiler.print_stats()"
   ]
  },
  {
   "cell_type": "markdown",
   "metadata": {},
   "source": [
    "## Visualization"
   ]
  },
  {
   "cell_type": "code",
   "execution_count": 13,
   "metadata": {},
   "outputs": [
    {
     "data": {
      "image/png": "[encoded data removed]",
      "text/plain": [
       "<Figure size 640x480 with 1 Axes>"
      ]
     },
     "metadata": {},
     "output_type": "display_data"
    }
   ],
   "source": [
    "plt.figure()\n",
    "grid.visualize(z=N//2)"
   ]
  },
  {
   "cell_type": "code",
   "execution_count": null,
   "metadata": {},
   "outputs": [],
   "source": []
  }
 ],
 "metadata": {
  "kernelspec": {
   "display_name": "Python 3 (ipykernel)",
   "language": "python",
   "name": "python3"
  },
  "language_info": {
   "codemirror_mode": {
    "name": "ipython",
    "version": 3
   },
   "file_extension": ".py",
   "mimetype": "text/x-python",
   "name": "python",
   "nbconvert_exporter": "python",
   "pygments_lexer": "ipython3",
   "version": "3.9.16"
  }
 },
 "nbformat": 4,
 "nbformat_minor": 4
}
