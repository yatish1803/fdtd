{
 "cells": [
  {
   "cell_type": "code",
   "execution_count": 1,
   "id": "a3fe30c6",
   "metadata": {},
   "outputs": [],
   "source": [
    "import os\n",
    "import fdtd\n",
    "import numpy as np\n",
    "import matplotlib.pyplot as plt"
   ]
  },
  {
   "cell_type": "code",
   "execution_count": 2,
   "id": "debcfeeb",
   "metadata": {},
   "outputs": [],
   "source": [
    "fdtd.set_backend(\"numpy\")"
   ]
  },
  {
   "cell_type": "code",
   "execution_count": 5,
   "id": "130697a7",
   "metadata": {},
   "outputs": [],
   "source": [
    "grid = fdtd.Grid(\n",
    "    shape = (300, 600, 1), # 25um x 15um x 1 (grid_spacing) --> 2D FDTD\n",
    "    grid_spacing = 1e-7,\n",
    "    permittivity = 1,\n",
    ")\n",
    "\n",
    "grid[0:10, :, :] = fdtd.PML(name=\"pml_xlow\")\n",
    "grid[-10:, :, :] = fdtd.PML(name=\"pml_xhigh\")\n",
    "grid[:, 0:10, :] = fdtd.PML(name=\"pml_ylow\")\n",
    "grid[:, -10:, :] = fdtd.PML(name=\"pml_yhigh\")"
   ]
  },
  {
   "cell_type": "code",
   "execution_count": 6,
   "id": "1527752b",
   "metadata": {},
   "outputs": [],
   "source": [
    "grid[50:250, 50, 0] = fdtd.LineSource(\n",
    "    period = 491e-9 / (3e8), name=\"source\"\n",
    ")"
   ]
  },
  {
   "cell_type": "code",
   "execution_count": 7,
   "id": "bd7d1109",
   "metadata": {},
   "outputs": [],
   "source": [
    "grid[50:250, 50:500, 0] = fdtd.BlockDetector(name=\"detector\")"
   ]
  },
  {
   "cell_type": "code",
   "execution_count": 8,
   "id": "9f969c5b",
   "metadata": {},
   "outputs": [],
   "source": [
    "refractive_index = 1.3\n",
    "x = y = np.linspace(-1,1,100)\n",
    "X, Y = np.meshgrid(x, y)\n",
    "circle_mask = X**2 + Y**2 < 1\n",
    "permittivity = np.ones((100,100,1))\n",
    "permittivity += circle_mask[:,:,None]*(refractive_index**2 - 1)\n",
    "grid[100:200, 100:200, 0] = fdtd.Object(permittivity=permittivity, name=\"object\")"
   ]
  },
  {
   "cell_type": "code",
   "execution_count": null,
   "id": "b24eced9",
   "metadata": {},
   "outputs": [],
   "source": []
  },
  {
   "cell_type": "code",
   "execution_count": 9,
   "id": "9542783a",
   "metadata": {},
   "outputs": [
    {
     "name": "stderr",
     "output_type": "stream",
     "text": [
      " 23%|███████████████████▌                                                                | 163/700 [01:47<05:52,  1.52it/s]\n"
     ]
    },
    {
     "ename": "KeyboardInterrupt",
     "evalue": "",
     "output_type": "error",
     "traceback": [
      "\u001b[1;31m---------------------------------------------------------------------------\u001b[0m",
      "\u001b[1;31mKeyboardInterrupt\u001b[0m                         Traceback (most recent call last)",
      "Cell \u001b[1;32mIn[9], line 1\u001b[0m\n\u001b[1;32m----> 1\u001b[0m \u001b[43mgrid\u001b[49m\u001b[38;5;241;43m.\u001b[39;49m\u001b[43mrun\u001b[49m\u001b[43m(\u001b[49m\u001b[43mtotal_time\u001b[49m\u001b[38;5;241;43m=\u001b[39;49m\u001b[38;5;241;43m700\u001b[39;49m\u001b[43m)\u001b[49m\n",
      "File \u001b[1;32m~\\anaconda3\\envs\\FDTD\\lib\\site-packages\\fdtd\\grid.py:265\u001b[0m, in \u001b[0;36mGrid.run\u001b[1;34m(self, total_time, progress_bar)\u001b[0m\n\u001b[0;32m    263\u001b[0m     time \u001b[38;5;241m=\u001b[39m tqdm(time)\n\u001b[0;32m    264\u001b[0m \u001b[38;5;28;01mfor\u001b[39;00m _ \u001b[38;5;129;01min\u001b[39;00m time:\n\u001b[1;32m--> 265\u001b[0m     \u001b[38;5;28;43mself\u001b[39;49m\u001b[38;5;241;43m.\u001b[39;49m\u001b[43mstep\u001b[49m\u001b[43m(\u001b[49m\u001b[43m)\u001b[49m\n",
      "File \u001b[1;32m~\\anaconda3\\envs\\FDTD\\lib\\site-packages\\fdtd\\grid.py:271\u001b[0m, in \u001b[0;36mGrid.step\u001b[1;34m(self)\u001b[0m\n\u001b[0;32m    267\u001b[0m \u001b[38;5;28;01mdef\u001b[39;00m \u001b[38;5;21mstep\u001b[39m(\u001b[38;5;28mself\u001b[39m):\n\u001b[0;32m    268\u001b[0m     \u001b[38;5;124;03m\"\"\"do a single FDTD step by first updating the electric field and then\u001b[39;00m\n\u001b[0;32m    269\u001b[0m \u001b[38;5;124;03m    updating the magnetic field\u001b[39;00m\n\u001b[0;32m    270\u001b[0m \u001b[38;5;124;03m    \"\"\"\u001b[39;00m\n\u001b[1;32m--> 271\u001b[0m     \u001b[38;5;28;43mself\u001b[39;49m\u001b[38;5;241;43m.\u001b[39;49m\u001b[43mupdate_E\u001b[49m\u001b[43m(\u001b[49m\u001b[43m)\u001b[49m\n\u001b[0;32m    272\u001b[0m     \u001b[38;5;28mself\u001b[39m\u001b[38;5;241m.\u001b[39mupdate_H()\n\u001b[0;32m    273\u001b[0m     \u001b[38;5;28mself\u001b[39m\u001b[38;5;241m.\u001b[39mtime_steps_passed \u001b[38;5;241m+\u001b[39m\u001b[38;5;241m=\u001b[39m \u001b[38;5;241m1\u001b[39m\n",
      "File \u001b[1;32m~\\anaconda3\\envs\\FDTD\\lib\\site-packages\\fdtd\\grid.py:299\u001b[0m, in \u001b[0;36mGrid.update_E\u001b[1;34m(self)\u001b[0m\n\u001b[0;32m    297\u001b[0m \u001b[38;5;66;03m# detect electric field\u001b[39;00m\n\u001b[0;32m    298\u001b[0m \u001b[38;5;28;01mfor\u001b[39;00m det \u001b[38;5;129;01min\u001b[39;00m \u001b[38;5;28mself\u001b[39m\u001b[38;5;241m.\u001b[39mdetectors:\n\u001b[1;32m--> 299\u001b[0m     \u001b[43mdet\u001b[49m\u001b[38;5;241;43m.\u001b[39;49m\u001b[43mdetect_E\u001b[49m\u001b[43m(\u001b[49m\u001b[43m)\u001b[49m\n",
      "File \u001b[1;32m~\\anaconda3\\envs\\FDTD\\lib\\site-packages\\fdtd\\detectors.py:250\u001b[0m, in \u001b[0;36mBlockDetector.detect_E\u001b[1;34m(self)\u001b[0m\n\u001b[0;32m    248\u001b[0m         E[i]\u001b[38;5;241m.\u001b[39mappend([])\n\u001b[0;32m    249\u001b[0m         \u001b[38;5;28;01mfor\u001b[39;00m pillar \u001b[38;5;129;01min\u001b[39;00m \u001b[38;5;28mself\u001b[39m\u001b[38;5;241m.\u001b[39mz:\n\u001b[1;32m--> 250\u001b[0m             E[i][j]\u001b[38;5;241m.\u001b[39mappend(\u001b[38;5;28mself\u001b[39m\u001b[38;5;241m.\u001b[39mgrid\u001b[38;5;241m.\u001b[39mE[row, col, [pillar]][\u001b[38;5;241m0\u001b[39m])\n\u001b[0;32m    251\u001b[0m \u001b[38;5;66;03m# E = self.grid.E[self.x, self.y, self.z]\u001b[39;00m\n\u001b[0;32m    252\u001b[0m \u001b[38;5;28mself\u001b[39m\u001b[38;5;241m.\u001b[39mE\u001b[38;5;241m.\u001b[39mappend(E)\n",
      "\u001b[1;31mKeyboardInterrupt\u001b[0m: "
     ]
    }
   ],
   "source": [
    "grid.run(total_time=100)"
   ]
  },
  {
   "cell_type": "code",
   "execution_count": null,
   "id": "bd5ef817",
   "metadata": {},
   "outputs": [],
   "source": []
  }
 ],
 "metadata": {
  "kernelspec": {
   "display_name": "Python 3 (ipykernel)",
   "language": "python",
   "name": "python3"
  },
  "language_info": {
   "codemirror_mode": {
    "name": "ipython",
    "version": 3
   },
   "file_extension": ".py",
   "mimetype": "text/x-python",
   "name": "python",
   "nbconvert_exporter": "python",
   "pygments_lexer": "ipython3",
   "version": "3.9.16"
  }
 },
 "nbformat": 4,
 "nbformat_minor": 5
}
